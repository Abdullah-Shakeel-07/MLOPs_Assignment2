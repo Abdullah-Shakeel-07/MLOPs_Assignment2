{
 "cells": [
  {
   "cell_type": "code",
   "execution_count": 2,
   "id": "1f210373",
   "metadata": {},
   "outputs": [],
   "source": [
    "import pandas as pd\n",
    "import numpy as np\n",
    "from datetime import datetime\n",
    "import pickle\n",
    "import requests\n",
    "from sklearn.metrics import mean_absolute_error\n",
    "from sklearn.model_selection import train_test_split\n",
    "from sklearn.linear_model import LinearRegression\n",
    "import warnings\n",
    "warnings.filterwarnings('ignore')"
   ]
  },
  {
   "cell_type": "code",
   "execution_count": 4,
   "id": "1432fbd8",
   "metadata": {},
   "outputs": [],
   "source": [
    "symbol = \"IBM\"  ## tried KSE:100, KSE:ALL, KSE:30, KSE:300\n",
    "apikey = \"6431HV32Z6VY021P\"        ## for API key: https://www.alphavantage.co/  then get free api key\n",
    "\n",
    "url = 'https://www.alphavantage.co/query?function=TIME_SERIES_INTRADAY&symbol=GOOGL&interval=5min&apikey={apikey}'\n",
    "response = requests.get(url)\n",
    "\n",
    "data = response.json()[\"Time Series (5min)\"]\n",
    "df = pd.DataFrame(data).transpose()\n",
    "df = df.rename(columns={\"1. open\": \"Open\", \"2. high\": \"High\", \"3. low\": \"Low\", \"4. close\": \"Close\", \"5. volume\": \"Volume\"})\n",
    "df.index = pd.to_datetime(df.index)\n",
    "df = df.astype(float)"
   ]
  },
  {
   "cell_type": "code",
   "execution_count": 5,
   "id": "d6c6abb8",
   "metadata": {},
   "outputs": [
    {
     "data": {
      "text/html": [
       "<div>\n",
       "<style scoped>\n",
       "    .dataframe tbody tr th:only-of-type {\n",
       "        vertical-align: middle;\n",
       "    }\n",
       "\n",
       "    .dataframe tbody tr th {\n",
       "        vertical-align: top;\n",
       "    }\n",
       "\n",
       "    .dataframe thead th {\n",
       "        text-align: right;\n",
       "    }\n",
       "</style>\n",
       "<table border=\"1\" class=\"dataframe\">\n",
       "  <thead>\n",
       "    <tr style=\"text-align: right;\">\n",
       "      <th></th>\n",
       "      <th>Open</th>\n",
       "      <th>High</th>\n",
       "      <th>Low</th>\n",
       "      <th>Close</th>\n",
       "      <th>Volume</th>\n",
       "    </tr>\n",
       "  </thead>\n",
       "  <tbody>\n",
       "    <tr>\n",
       "      <th>2023-03-21 20:00:00</th>\n",
       "      <td>104.3200</td>\n",
       "      <td>104.3200</td>\n",
       "      <td>104.180</td>\n",
       "      <td>104.1800</td>\n",
       "      <td>5346.0</td>\n",
       "    </tr>\n",
       "    <tr>\n",
       "      <th>2023-03-21 19:55:00</th>\n",
       "      <td>104.3000</td>\n",
       "      <td>104.3300</td>\n",
       "      <td>104.220</td>\n",
       "      <td>104.2300</td>\n",
       "      <td>2319.0</td>\n",
       "    </tr>\n",
       "    <tr>\n",
       "      <th>2023-03-21 19:50:00</th>\n",
       "      <td>104.2800</td>\n",
       "      <td>104.2800</td>\n",
       "      <td>104.230</td>\n",
       "      <td>104.2300</td>\n",
       "      <td>923.0</td>\n",
       "    </tr>\n",
       "    <tr>\n",
       "      <th>2023-03-21 19:45:00</th>\n",
       "      <td>104.2400</td>\n",
       "      <td>104.2600</td>\n",
       "      <td>104.240</td>\n",
       "      <td>104.2600</td>\n",
       "      <td>2743.0</td>\n",
       "    </tr>\n",
       "    <tr>\n",
       "      <th>2023-03-21 19:40:00</th>\n",
       "      <td>104.2000</td>\n",
       "      <td>104.2700</td>\n",
       "      <td>104.200</td>\n",
       "      <td>104.2700</td>\n",
       "      <td>1228.0</td>\n",
       "    </tr>\n",
       "    <tr>\n",
       "      <th>...</th>\n",
       "      <td>...</td>\n",
       "      <td>...</td>\n",
       "      <td>...</td>\n",
       "      <td>...</td>\n",
       "      <td>...</td>\n",
       "    </tr>\n",
       "    <tr>\n",
       "      <th>2023-03-21 11:50:00</th>\n",
       "      <td>102.9650</td>\n",
       "      <td>103.2300</td>\n",
       "      <td>102.651</td>\n",
       "      <td>103.2017</td>\n",
       "      <td>573743.0</td>\n",
       "    </tr>\n",
       "    <tr>\n",
       "      <th>2023-03-21 11:45:00</th>\n",
       "      <td>102.9933</td>\n",
       "      <td>103.1199</td>\n",
       "      <td>102.810</td>\n",
       "      <td>102.9600</td>\n",
       "      <td>372301.0</td>\n",
       "    </tr>\n",
       "    <tr>\n",
       "      <th>2023-03-21 11:40:00</th>\n",
       "      <td>103.0600</td>\n",
       "      <td>103.1400</td>\n",
       "      <td>102.880</td>\n",
       "      <td>103.0000</td>\n",
       "      <td>716525.0</td>\n",
       "    </tr>\n",
       "    <tr>\n",
       "      <th>2023-03-21 11:35:00</th>\n",
       "      <td>102.8150</td>\n",
       "      <td>103.0700</td>\n",
       "      <td>102.810</td>\n",
       "      <td>103.0650</td>\n",
       "      <td>335841.0</td>\n",
       "    </tr>\n",
       "    <tr>\n",
       "      <th>2023-03-21 11:30:00</th>\n",
       "      <td>102.7894</td>\n",
       "      <td>102.8300</td>\n",
       "      <td>102.620</td>\n",
       "      <td>102.8150</td>\n",
       "      <td>297141.0</td>\n",
       "    </tr>\n",
       "  </tbody>\n",
       "</table>\n",
       "<p>100 rows × 5 columns</p>\n",
       "</div>"
      ],
      "text/plain": [
       "                         Open      High      Low     Close    Volume\n",
       "2023-03-21 20:00:00  104.3200  104.3200  104.180  104.1800    5346.0\n",
       "2023-03-21 19:55:00  104.3000  104.3300  104.220  104.2300    2319.0\n",
       "2023-03-21 19:50:00  104.2800  104.2800  104.230  104.2300     923.0\n",
       "2023-03-21 19:45:00  104.2400  104.2600  104.240  104.2600    2743.0\n",
       "2023-03-21 19:40:00  104.2000  104.2700  104.200  104.2700    1228.0\n",
       "...                       ...       ...      ...       ...       ...\n",
       "2023-03-21 11:50:00  102.9650  103.2300  102.651  103.2017  573743.0\n",
       "2023-03-21 11:45:00  102.9933  103.1199  102.810  102.9600  372301.0\n",
       "2023-03-21 11:40:00  103.0600  103.1400  102.880  103.0000  716525.0\n",
       "2023-03-21 11:35:00  102.8150  103.0700  102.810  103.0650  335841.0\n",
       "2023-03-21 11:30:00  102.7894  102.8300  102.620  102.8150  297141.0\n",
       "\n",
       "[100 rows x 5 columns]"
      ]
     },
     "execution_count": 5,
     "metadata": {},
     "output_type": "execute_result"
    }
   ],
   "source": [
    "df"
   ]
  },
  {
   "cell_type": "code",
   "execution_count": 4,
   "id": "fe651905",
   "metadata": {},
   "outputs": [
    {
     "name": "stdout",
     "output_type": "stream",
     "text": [
      "R-squared score: 0.9914371330292959\n"
     ]
    }
   ],
   "source": [
    "X = df.drop([\"Close\"], axis=1)\n",
    "y = df[\"Close\"]\n",
    "\n",
    "X_train, X_test, y_train, y_test = train_test_split(X, y, test_size=0.2)\n",
    "\n",
    "regressor = LinearRegression()\n",
    "regressor.fit(X_train, y_train)\n",
    "\n",
    "y_pred = regressor.predict(X_test)\n",
    "score = regressor.score(X_test, y_test)\n",
    "print(\"R-squared score:\", score)"
   ]
  },
  {
   "cell_type": "code",
   "execution_count": 6,
   "id": "5592ba23",
   "metadata": {},
   "outputs": [],
   "source": [
    "pickle.dump(regressor,open('model.pkl','wb'))"
   ]
  },
  {
   "cell_type": "code",
   "execution_count": 3,
   "id": "0bf94447",
   "metadata": {},
   "outputs": [],
   "source": [
    "model=pickle.load(open('model.pkl','rb'))"
   ]
  },
  {
   "cell_type": "code",
   "execution_count": 7,
   "id": "93769537",
   "metadata": {},
   "outputs": [
    {
     "name": "stdout",
     "output_type": "stream",
     "text": [
      "Predicted value [103.69269633]\n"
     ]
    },
    {
     "name": "stderr",
     "output_type": "stream",
     "text": [
      "C:\\Users\\Admin\\anaconda3\\lib\\site-packages\\sklearn\\base.py:450: UserWarning: X does not have valid feature names, but LinearRegression was fitted with feature names\n",
      "  warnings.warn(\n"
     ]
    }
   ],
   "source": [
    "# just for testing purpose\n",
    "temp = np.array([103.6200,103.7300,103.5000,416146.0])\n",
    "# data = {'Open': temp[0], 'High': temp[1],  'Low': temp[2],  'Volume': temp[3]}\n",
    "# now = datetime.now()\n",
    "# dt_string = now.strftime(\"%d-%m-%Y %H:%M:%S\")\n",
    "# test = pd.DataFrame(data, index=[dt_string])\n",
    "y_pred = model.predict(temp.reshape(1, -1))\n",
    "print(\"Predicted value\", y_pred)"
   ]
  },
  {
   "cell_type": "code",
   "execution_count": null,
   "id": "531b2a17",
   "metadata": {},
   "outputs": [],
   "source": []
  }
 ],
 "metadata": {
  "kernelspec": {
   "display_name": "Python 3 (ipykernel)",
   "language": "python",
   "name": "python3"
  },
  "language_info": {
   "codemirror_mode": {
    "name": "ipython",
    "version": 3
   },
   "file_extension": ".py",
   "mimetype": "text/x-python",
   "name": "python",
   "nbconvert_exporter": "python",
   "pygments_lexer": "ipython3",
   "version": "3.9.12"
  }
 },
 "nbformat": 4,
 "nbformat_minor": 5
}
